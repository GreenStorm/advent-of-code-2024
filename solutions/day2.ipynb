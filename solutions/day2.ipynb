{
 "cells": [
  {
   "cell_type": "markdown",
   "metadata": {},
   "source": [
    "# Advent of Code - Day2:"
   ]
  },
  {
   "cell_type": "markdown",
   "metadata": {},
   "source": [
    "### Things learned:\n",
    "\n",
    "### Things to remember:\n"
   ]
  },
  {
   "cell_type": "markdown",
   "metadata": {},
   "source": [
    "### Input:"
   ]
  },
  {
   "cell_type": "code",
   "execution_count": 1,
   "metadata": {},
   "outputs": [],
   "source": [
    "import pandas as pd"
   ]
  },
  {
   "cell_type": "code",
   "execution_count": 2,
   "metadata": {},
   "outputs": [],
   "source": [
    "def part_1():\n",
    "    df = pd.read_csv(\"../inputs/day2.txt\", header=None)\n",
    "    df[0] = df[0].apply(lambda row_as_string: list(map(int, row_as_string.split())))\n",
    "    df[\"is_safe\"] = df[0].apply(is_safe)\n",
    "    return df[\"is_safe\"].value_counts()[True]\n",
    "\n",
    "def is_safe(row):\n",
    "    return (is_sorted_in_direction(row, True) or is_sorted_in_direction(row, False))\n",
    "\n",
    "def is_sorted_in_direction(row, is_increasing=True):\n",
    "    for i in range(len(row) - 1):\n",
    "        if not is_safe_distance(i, i + 1, row, is_increasing):\n",
    "            return False\n",
    "    return True\n",
    "    \n",
    "def is_safe_distance(start, end, row, is_increasing):\n",
    "    max_step = 3\n",
    "    min_step = 1\n",
    "    distance = row[start] - row[end] if is_increasing else row[end] - row[start]\n",
    "    \n",
    "    return distance >= min_step and distance <= max_step\n",
    "\n"
   ]
  },
  {
   "cell_type": "code",
   "execution_count": 3,
   "metadata": {},
   "outputs": [
    {
     "data": {
      "text/plain": [
       "369"
      ]
     },
     "execution_count": 3,
     "metadata": {},
     "output_type": "execute_result"
    }
   ],
   "source": [
    "part_1()"
   ]
  },
  {
   "cell_type": "code",
   "execution_count": 4,
   "metadata": {},
   "outputs": [],
   "source": [
    "def part_2():\n",
    "    df = pd.read_csv(\"../inputs/day2.txt\", header=None)\n",
    "    df[0] = df[0].apply(lambda row_as_string: list(map(int, row_as_string.split())))\n",
    "    df[\"is_safe\"] = df[0].apply(is_safe)\n",
    "    return df[\"is_safe\"].value_counts()[True]\n",
    "\n",
    "def is_safe(row):\n",
    "    if is_sorted_in_direction(row, True) or is_sorted_in_direction(row, False):\n",
    "        return True\n",
    "    \n",
    "    for i in range(len(row)):\n",
    "        new_row = row[:i] + row[i+1:] \n",
    "        if is_sorted_in_direction(new_row, True) or is_sorted_in_direction(new_row, False):\n",
    "            return True\n",
    "    return False\n",
    "\n",
    "def is_sorted_in_direction(row, is_increasing=True):\n",
    "    for i in range(len(row) - 1):\n",
    "        if not is_safe_distance(i, i + 1, row, is_increasing):\n",
    "            return False\n",
    "    return True\n",
    "    \n",
    "def is_safe_distance(start, end, row, is_increasing):\n",
    "    max_step = 3\n",
    "    min_step = 1\n",
    "    distance = row[start] - row[end] if is_increasing else row[end] - row[start]\n",
    "    \n",
    "    return distance >= min_step and distance <= max_step\n",
    "\n"
   ]
  },
  {
   "cell_type": "code",
   "execution_count": 5,
   "metadata": {},
   "outputs": [
    {
     "data": {
      "text/plain": [
       "428"
      ]
     },
     "execution_count": 5,
     "metadata": {},
     "output_type": "execute_result"
    }
   ],
   "source": [
    "part_2()"
   ]
  }
 ],
 "metadata": {
  "kernelspec": {
   "display_name": "Python 3",
   "language": "python",
   "name": "python3"
  },
  "language_info": {
   "codemirror_mode": {
    "name": "ipython",
    "version": 3
   },
   "file_extension": ".py",
   "mimetype": "text/x-python",
   "name": "python",
   "nbconvert_exporter": "python",
   "pygments_lexer": "ipython3",
   "version": "3.12.8"
  }
 },
 "nbformat": 4,
 "nbformat_minor": 2
}
