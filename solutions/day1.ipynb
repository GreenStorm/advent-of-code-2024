{
 "cells": [
  {
   "cell_type": "markdown",
   "metadata": {},
   "source": [
    "# Advent of Code - Day1:"
   ]
  },
  {
   "cell_type": "markdown",
   "metadata": {},
   "source": [
    "### Things learned:\n",
    "\n",
    "- Triple quotation marks are used to create multi-line strings.\n",
    "- You can use `inplace=True` to assign when sorting a pandas dataframe but not the columns of a dataframe.\n",
    "\n",
    "### Things to remember:\n",
    "\n",
    "- List comprehension syntax `newlist = [expression for item in iterable if condition == True]`"
   ]
  },
  {
   "cell_type": "markdown",
   "metadata": {
    "tags": [
     "hide-cell"
    ]
   },
   "source": [
    "### Input:"
   ]
  },
  {
   "cell_type": "code",
   "execution_count": 1,
   "metadata": {},
   "outputs": [],
   "source": [
    "def read_file(file_path = \"../inputs/day1.txt\"):\n",
    "    # Read the file and split lines\n",
    "    with open(file_path, \"r\") as file:\n",
    "        return file.read()"
   ]
  },
  {
   "cell_type": "markdown",
   "metadata": {},
   "source": [
    "### Solution:"
   ]
  },
  {
   "cell_type": "code",
   "execution_count": 2,
   "metadata": {},
   "outputs": [],
   "source": [
    "def total_distance(input_data):\n",
    "    lines = input_data.strip().split(\"\\n\")\n",
    "    # Read and format into to two lists\n",
    "    column1, column2 = [], []\n",
    "    for line in lines:\n",
    "        a, b = line.split()\n",
    "        column1.append(int(a))\n",
    "        column2.append(int(b))\n",
    "    \n",
    "    # Sort the columns\n",
    "    column1.sort()\n",
    "    column2.sort()\n",
    "    \n",
    "    # Calculate and return total sum\n",
    "    sum = 0\n",
    "    for i in range(len(column1)):\n",
    "        sum += abs(column1[i] - column2[i])\n",
    "            \n",
    "    return (sum)"
   ]
  },
  {
   "cell_type": "code",
   "execution_count": 3,
   "metadata": {},
   "outputs": [
    {
     "data": {
      "text/plain": [
       "1938424"
      ]
     },
     "execution_count": 3,
     "metadata": {},
     "output_type": "execute_result"
    }
   ],
   "source": [
    "input_data = read_file()\n",
    "total_distance(input_data)"
   ]
  },
  {
   "cell_type": "markdown",
   "metadata": {},
   "source": [
    "###  Pandas Solution:"
   ]
  },
  {
   "cell_type": "code",
   "execution_count": 4,
   "metadata": {},
   "outputs": [],
   "source": [
    "import pandas as pd"
   ]
  },
  {
   "cell_type": "code",
   "execution_count": null,
   "metadata": {},
   "outputs": [],
   "source": [
    "def total_distance(input_data):\n",
    "    # Read and format into to a list of lists of two ints\n",
    "    lines = input_data.strip().split(\"\\n\")\n",
    "    data = [list(map(int, line.split())) for line in lines]\n",
    "    df = pd.DataFrame(data, columns=['column1', 'column2'])\n",
    "    \n",
    "    # Sort the columns\n",
    "    df['column1'] = df['column1'].sort_values()\n",
    "    df['column2'] = df['column2'].sort_values()\n",
    "    \n",
    "    sum = (df['column1'] - df['column2']).abs().sum()\n",
    "    return sum\n",
    "\n",
    "def total_similarity(input_data):\n",
    "    # Read and format into to a list of lists of two ints\n",
    "    lines = input_data.strip().split(\"\\n\")\n",
    "    data = [list(map(int, line.split())) for line in lines]\n",
    "    df = pd.DataFrame(data, columns=['column1', 'column2'])\n",
    "    \n",
    "    # Find similarity\n",
    "    df['similarity'] = df['column1'].map(df['column2'].value_counts())*df['column1']\n",
    "    sum = df['similarity'].sum()\n",
    "    display(df)\n",
    "    return sum"
   ]
  },
  {
   "cell_type": "code",
   "execution_count": 6,
   "metadata": {},
   "outputs": [
    {
     "data": {
      "text/plain": [
       "30675430"
      ]
     },
     "execution_count": 6,
     "metadata": {},
     "output_type": "execute_result"
    }
   ],
   "source": [
    "input_data = read_file()\n",
    "total_distance(input_data)"
   ]
  },
  {
   "cell_type": "code",
   "execution_count": 7,
   "metadata": {},
   "outputs": [
    {
     "data": {
      "text/html": [
       "<div>\n",
       "<style scoped>\n",
       "    .dataframe tbody tr th:only-of-type {\n",
       "        vertical-align: middle;\n",
       "    }\n",
       "\n",
       "    .dataframe tbody tr th {\n",
       "        vertical-align: top;\n",
       "    }\n",
       "\n",
       "    .dataframe thead th {\n",
       "        text-align: right;\n",
       "    }\n",
       "</style>\n",
       "<table border=\"1\" class=\"dataframe\">\n",
       "  <thead>\n",
       "    <tr style=\"text-align: right;\">\n",
       "      <th></th>\n",
       "      <th>column1</th>\n",
       "      <th>column2</th>\n",
       "      <th>similarity</th>\n",
       "    </tr>\n",
       "  </thead>\n",
       "  <tbody>\n",
       "    <tr>\n",
       "      <th>0</th>\n",
       "      <td>14832</td>\n",
       "      <td>78161</td>\n",
       "      <td>NaN</td>\n",
       "    </tr>\n",
       "    <tr>\n",
       "      <th>1</th>\n",
       "      <td>19986</td>\n",
       "      <td>67025</td>\n",
       "      <td>NaN</td>\n",
       "    </tr>\n",
       "    <tr>\n",
       "      <th>2</th>\n",
       "      <td>61574</td>\n",
       "      <td>40916</td>\n",
       "      <td>NaN</td>\n",
       "    </tr>\n",
       "    <tr>\n",
       "      <th>3</th>\n",
       "      <td>87318</td>\n",
       "      <td>29281</td>\n",
       "      <td>NaN</td>\n",
       "    </tr>\n",
       "    <tr>\n",
       "      <th>4</th>\n",
       "      <td>12651</td>\n",
       "      <td>42252</td>\n",
       "      <td>NaN</td>\n",
       "    </tr>\n",
       "    <tr>\n",
       "      <th>...</th>\n",
       "      <td>...</td>\n",
       "      <td>...</td>\n",
       "      <td>...</td>\n",
       "    </tr>\n",
       "    <tr>\n",
       "      <th>995</th>\n",
       "      <td>74143</td>\n",
       "      <td>50625</td>\n",
       "      <td>NaN</td>\n",
       "    </tr>\n",
       "    <tr>\n",
       "      <th>996</th>\n",
       "      <td>89442</td>\n",
       "      <td>77411</td>\n",
       "      <td>NaN</td>\n",
       "    </tr>\n",
       "    <tr>\n",
       "      <th>997</th>\n",
       "      <td>11299</td>\n",
       "      <td>45357</td>\n",
       "      <td>NaN</td>\n",
       "    </tr>\n",
       "    <tr>\n",
       "      <th>998</th>\n",
       "      <td>65424</td>\n",
       "      <td>21897</td>\n",
       "      <td>NaN</td>\n",
       "    </tr>\n",
       "    <tr>\n",
       "      <th>999</th>\n",
       "      <td>17687</td>\n",
       "      <td>33543</td>\n",
       "      <td>NaN</td>\n",
       "    </tr>\n",
       "  </tbody>\n",
       "</table>\n",
       "<p>1000 rows × 3 columns</p>\n",
       "</div>"
      ],
      "text/plain": [
       "     column1  column2  similarity\n",
       "0      14832    78161         NaN\n",
       "1      19986    67025         NaN\n",
       "2      61574    40916         NaN\n",
       "3      87318    29281         NaN\n",
       "4      12651    42252         NaN\n",
       "..       ...      ...         ...\n",
       "995    74143    50625         NaN\n",
       "996    89442    77411         NaN\n",
       "997    11299    45357         NaN\n",
       "998    65424    21897         NaN\n",
       "999    17687    33543         NaN\n",
       "\n",
       "[1000 rows x 3 columns]"
      ]
     },
     "metadata": {},
     "output_type": "display_data"
    },
    {
     "data": {
      "text/plain": [
       "22014209.0"
      ]
     },
     "execution_count": 7,
     "metadata": {},
     "output_type": "execute_result"
    }
   ],
   "source": [
    "input_data = read_file()\n",
    "total_similarity(input_data)"
   ]
  }
 ],
 "metadata": {
  "kernelspec": {
   "display_name": "Python 3",
   "language": "python",
   "name": "python3"
  },
  "language_info": {
   "codemirror_mode": {
    "name": "ipython",
    "version": 3
   },
   "file_extension": ".py",
   "mimetype": "text/x-python",
   "name": "python",
   "nbconvert_exporter": "python",
   "pygments_lexer": "ipython3",
   "version": "3.12.7"
  }
 },
 "nbformat": 4,
 "nbformat_minor": 2
}
