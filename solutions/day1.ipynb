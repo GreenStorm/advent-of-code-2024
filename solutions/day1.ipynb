{
 "cells": [
  {
   "cell_type": "markdown",
   "metadata": {},
   "source": [
    "# Advent of Code - Day1:"
   ]
  },
  {
   "cell_type": "markdown",
   "metadata": {},
   "source": [
    "### Things learned:\n",
    "\n",
    "- Triple quotation marks are used to create multi-line strings.\n",
    "- You can use `inplace=True` to assign when sorting a pandas dataframe but not the columns of a dataframe.\n",
    "\n",
    "### Things to remember:\n",
    "\n",
    "- List comprehension syntax `newlist = [expression for item in iterable if condition == True]`"
   ]
  },
  {
   "cell_type": "markdown",
   "metadata": {
    "tags": [
     "hide-cell"
    ]
   },
   "source": [
    "### Input:"
   ]
  },
  {
   "cell_type": "code",
   "execution_count": 1,
   "metadata": {},
   "outputs": [],
   "source": [
    "def read_file(file_path = \"../inputs/day1.txt\"):\n",
    "    # Read the file and split lines\n",
    "    with open(file_path, \"r\") as file:\n",
    "        return file.read()"
   ]
  },
  {
   "cell_type": "markdown",
   "metadata": {},
   "source": [
    "### Solution:"
   ]
  },
  {
   "cell_type": "code",
   "execution_count": 2,
   "metadata": {},
   "outputs": [],
   "source": [
    "def total_distance(input_data):\n",
    "    lines = input_data.strip().split(\"\\n\")\n",
    "    # Read and format into to two lists\n",
    "    column1, column2 = [], []\n",
    "    for line in lines:\n",
    "        a, b = line.split()\n",
    "        column1.append(int(a))\n",
    "        column2.append(int(b))\n",
    "    \n",
    "    # Sort the columns\n",
    "    column1.sort()\n",
    "    column2.sort()\n",
    "    \n",
    "    # Calculate and return total sum\n",
    "    sum = 0\n",
    "    for i in range(len(column1)):\n",
    "        sum += abs(column1[i] - column2[i])\n",
    "            \n",
    "    return (sum)"
   ]
  },
  {
   "cell_type": "code",
   "execution_count": 3,
   "metadata": {},
   "outputs": [
    {
     "data": {
      "text/plain": [
       "1938424"
      ]
     },
     "execution_count": 3,
     "metadata": {},
     "output_type": "execute_result"
    }
   ],
   "source": [
    "input_data = read_file()\n",
    "total_distance(input_data)"
   ]
  },
  {
   "cell_type": "markdown",
   "metadata": {},
   "source": [
    "###  Pandas Solution:"
   ]
  },
  {
   "cell_type": "code",
   "execution_count": 4,
   "metadata": {},
   "outputs": [],
   "source": [
    "import pandas as pd"
   ]
  },
  {
   "cell_type": "code",
   "execution_count": 5,
   "metadata": {},
   "outputs": [],
   "source": [
    "def total_distance(input_data):\n",
    "    # Read and format into to a list of lists of two ints\n",
    "    lines = input_data.strip().split(\"\\n\")\n",
    "    data = [list(map(int, line.split())) for line in lines]\n",
    "    df = pd.DataFrame(data, columns=['column1', 'column2'])\n",
    "    \n",
    "    # Sort the columns\n",
    "    df['column1'] = df['column1'].sort_values()\n",
    "    df['column2'] = df['column2'].sort_values()\n",
    "    \n",
    "    sum = (df['column1'] - df['column2']).abs().sum()\n",
    "    return sum\n",
    "\n",
    "def total_similarity(input_data):\n",
    "    # Read and format into to a list of lists of two ints\n",
    "    lines = input_data.strip().split(\"\\n\")\n",
    "    data = [list(map(int, line.split())) for line in lines]\n",
    "    df = pd.DataFrame(data, columns=['column1', 'column2'])\n",
    "    \n",
    "    # Find similarity\n",
    "    df['similarity'] = df['column1'].map(df['column2'].value_counts())*df['column1']\n",
    "    sum = df['similarity'].sum()\n",
    "    return sum"
   ]
  },
  {
   "cell_type": "code",
   "execution_count": 6,
   "metadata": {},
   "outputs": [
    {
     "data": {
      "text/plain": [
       "30675430"
      ]
     },
     "execution_count": 6,
     "metadata": {},
     "output_type": "execute_result"
    }
   ],
   "source": [
    "input_data = read_file()\n",
    "total_distance(input_data)"
   ]
  },
  {
   "cell_type": "code",
   "execution_count": 7,
   "metadata": {},
   "outputs": [
    {
     "data": {
      "text/plain": [
       "22014209.0"
      ]
     },
     "execution_count": 7,
     "metadata": {},
     "output_type": "execute_result"
    }
   ],
   "source": [
    "input_data = read_file()\n",
    "total_similarity(input_data)"
   ]
  }
 ],
 "metadata": {
  "kernelspec": {
   "display_name": "Python 3",
   "language": "python",
   "name": "python3"
  },
  "language_info": {
   "codemirror_mode": {
    "name": "ipython",
    "version": 3
   },
   "file_extension": ".py",
   "mimetype": "text/x-python",
   "name": "python",
   "nbconvert_exporter": "python",
   "pygments_lexer": "ipython3",
   "version": "3.12.7"
  }
 },
 "nbformat": 4,
 "nbformat_minor": 2
}
